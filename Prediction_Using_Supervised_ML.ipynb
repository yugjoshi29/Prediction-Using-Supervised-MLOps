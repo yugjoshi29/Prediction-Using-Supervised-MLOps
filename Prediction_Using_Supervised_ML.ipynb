{
  "nbformat": 4,
  "nbformat_minor": 0,
  "metadata": {
    "colab": {
      "private_outputs": true,
      "provenance": [],
      "toc_visible": true,
      "authorship_tag": "ABX9TyM0+AshYQEkGGKYw7nueDHg",
      "include_colab_link": true
    },
    "kernelspec": {
      "name": "python3",
      "display_name": "Python 3"
    },
    "language_info": {
      "name": "python"
    }
  },
  "cells": [
    {
      "cell_type": "markdown",
      "metadata": {
        "id": "view-in-github",
        "colab_type": "text"
      },
      "source": [
        "<a href=\"https://colab.research.google.com/github/yugjoshi29/Prediction-Using-Unsupervised-ML/blob/main/Prediction_Using_Supervised_ML.ipynb\" target=\"_parent\"><img src=\"https://colab.research.google.com/assets/colab-badge.svg\" alt=\"Open In Colab\"/></a>"
      ]
    },
    {
      "cell_type": "markdown",
      "source": [
        "**PREDICTION USING SUPERVISED ML**\n",
        "\n",
        "Step 1: Imported required Libraries and Dataset"
      ],
      "metadata": {
        "id": "Dd-xJblZ8A0Q"
      }
    },
    {
      "cell_type": "code",
      "source": [
        "import numpy as np\n",
        "import pandas as pd\n",
        "import matplotlib.pyplot as plt\n",
        "import seaborn as sns"
      ],
      "metadata": {
        "id": "NCSoqALo8BEG"
      },
      "execution_count": null,
      "outputs": []
    },
    {
      "cell_type": "code",
      "source": [
        "from sklearn.model_selection import train_test_split\n",
        "from sklearn.linear_model import LinearRegression\n",
        "from sklearn.metrics import mean_absolute_error"
      ],
      "metadata": {
        "id": "WhYmrNXR8BzY"
      },
      "execution_count": null,
      "outputs": []
    },
    {
      "cell_type": "markdown",
      "source": [
        "Step 2: The Dataset Uploading"
      ],
      "metadata": {
        "id": "JlHQDCAb8k7s"
      }
    },
    {
      "cell_type": "code",
      "source": [
        "df = pd.read_csv('http://bit.ly/w-data')\n",
        "df.head()"
      ],
      "metadata": {
        "id": "dQ8LkGB78Zer"
      },
      "execution_count": null,
      "outputs": []
    },
    {
      "cell_type": "code",
      "source": [
        "df.isnull().sum()"
      ],
      "metadata": {
        "id": "XUlWB43B8qjo"
      },
      "execution_count": null,
      "outputs": []
    },
    {
      "cell_type": "markdown",
      "source": [
        "Step 3: Visuallsing The Dataset"
      ],
      "metadata": {
        "id": "_NsASvy188oC"
      }
    },
    {
      "cell_type": "code",
      "source": [
        "df.plot(x='Hours', y='Scores', style='o')\n",
        "plt.title('No of Hours Studied vs Percentage')\n",
        "plt.xlabel('No of Hours Studied')\n",
        "plt.ylabel('Percentage Score')\n",
        "plt.show()"
      ],
      "metadata": {
        "id": "edPb-6J585Dy"
      },
      "execution_count": null,
      "outputs": []
    },
    {
      "cell_type": "markdown",
      "source": [
        "The positive linear relation between the number of hours studied and percentage of score."
      ],
      "metadata": {
        "id": "aasJwLmu9OmE"
      }
    },
    {
      "cell_type": "code",
      "source": [
        "df.corr()"
      ],
      "metadata": {
        "id": "iXNP6ETs9Coi"
      },
      "execution_count": null,
      "outputs": []
    },
    {
      "cell_type": "markdown",
      "source": [
        "I used Linier Regression model for prediction because of the reletion between no of hourse and persentage score"
      ],
      "metadata": {
        "id": "HLpyUDKq9eOk"
      }
    },
    {
      "cell_type": "code",
      "source": [
        "# Plotting regression line to confirm the correlation between veriables.\n",
        "\n",
        "sns.regplot(x=df['Hours'],y=df['Scores'])\n",
        "plt.title('Regression Plot')\n",
        "plt.xlabel('No of Hours Studied')\n",
        "plt.ylabel('Percentage Scored')\n",
        "plt.show()"
      ],
      "metadata": {
        "id": "rG6q6qvA9KOb"
      },
      "execution_count": null,
      "outputs": []
    },
    {
      "cell_type": "markdown",
      "source": [
        "Step 4: Training of the Model\n",
        "\n",
        "Defineing the Veriables x and y"
      ],
      "metadata": {
        "id": "gYpXT6cq90rK"
      }
    },
    {
      "cell_type": "code",
      "source": [
        "X = df.iloc[:, :-1].values\n",
        "y = df.iloc[:, 1].values\n",
        "\n",
        "# Splitting the data\n",
        "X_train, X_test, y_train, y_test = train_test_split(X, y, test_size=0.2, random_state=0)"
      ],
      "metadata": {
        "id": "S73I84109lAe"
      },
      "execution_count": null,
      "outputs": []
    },
    {
      "cell_type": "code",
      "source": [
        "regression = LinearRegression()\n",
        "regression.fit(X_train, y_train)"
      ],
      "metadata": {
        "id": "1suTsFJ791i5"
      },
      "execution_count": null,
      "outputs": []
    },
    {
      "cell_type": "markdown",
      "source": [
        "Step 5: Prediction of the Model"
      ],
      "metadata": {
        "id": "r6WGt8oE-E_d"
      }
    },
    {
      "cell_type": "code",
      "source": [
        "print(X_test)\n",
        "y_pred=regression.predict(X_test)"
      ],
      "metadata": {
        "id": "eV3FbD3Z97Zx"
      },
      "execution_count": null,
      "outputs": []
    },
    {
      "cell_type": "markdown",
      "source": [
        "Compairing the actual vs predicted Score"
      ],
      "metadata": {
        "id": "4oi5JjST-Nd0"
      }
    },
    {
      "cell_type": "code",
      "source": [
        "ComparedScores_df = pd.DataFrame({'Actual Score': y_test, 'Predicted Score': y_pred})\n",
        "ComparedScores_df"
      ],
      "metadata": {
        "id": "xH63ojIp-KZL"
      },
      "execution_count": null,
      "outputs": []
    },
    {
      "cell_type": "markdown",
      "source": [
        "Step 6: Evaluation of the Model"
      ],
      "metadata": {
        "id": "pURmddlT-e0q"
      }
    },
    {
      "cell_type": "code",
      "source": [
        "print('Mean Absolute Error:', mean_absolute_error(y_test, y_pred))"
      ],
      "metadata": {
        "id": "a-wLn2P1-OeT"
      },
      "execution_count": null,
      "outputs": []
    },
    {
      "cell_type": "markdown",
      "source": [
        "What is the predicted score of a student , if the person studies for 9.25hrs per day"
      ],
      "metadata": {
        "id": "VRlii6As-lq0"
      }
    },
    {
      "cell_type": "code",
      "source": [
        "hours = [9]\n",
        "own_pred = regression.predict([hours])\n",
        "print(\"Predicted Score = {}\".format(round(own_pred[0],2)))"
      ],
      "metadata": {
        "id": "8IbHbVIw-faL"
      },
      "execution_count": null,
      "outputs": []
    },
    {
      "cell_type": "markdown",
      "source": [
        "If a person study 9 hours, he/she can score 91.21%."
      ],
      "metadata": {
        "id": "3EakeQUy-wBG"
      }
    }
  ]
}